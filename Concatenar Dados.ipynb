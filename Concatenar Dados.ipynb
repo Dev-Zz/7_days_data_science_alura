{
 "cells": [
  {
   "cell_type": "markdown",
   "id": "815b5d90-52d0-4a71-a296-23d3359bc5fd",
   "metadata": {},
   "source": [
    "# Concatenar Dados"
   ]
  },
  {
   "cell_type": "markdown",
   "id": "4449dd39-e34a-4a3a-be16-cfe340d4cfa5",
   "metadata": {},
   "source": [
    "No total são 15 arquivos 'csv' irei analisar somente os ultimos 4 anos, por essa razão unifiquei somente 4 DataFrames."
   ]
  },
  {
   "cell_type": "code",
   "execution_count": 1,
   "id": "f94daf33-9bd7-425b-a031-4b8278d1c2e9",
   "metadata": {},
   "outputs": [],
   "source": [
    "import os\n",
    "import glob\n",
    "import pandas as pd\n",
    "os.chdir(r\"C:\\Users\\Jose Eduardo\\Documents\\GitHub\\7_days_data_science_alura\\Dados\")"
   ]
  },
  {
   "cell_type": "code",
   "execution_count": 2,
   "id": "3ab761d4-db6d-4b55-a5ad-f6661c1cc625",
   "metadata": {},
   "outputs": [
    {
     "data": {
      "text/plain": [
       "['despesa_ceaps_2019.csv',\n",
       " 'despesa_ceaps_2020.csv',\n",
       " 'despesa_ceaps_2021.csv',\n",
       " 'despesa_ceaps_2022.csv']"
      ]
     },
     "execution_count": 2,
     "metadata": {},
     "output_type": "execute_result"
    }
   ],
   "source": [
    "extension = 'csv'\n",
    "all_filenames = [i for i in glob.glob('*.{}'.format(extension))]\n",
    "all_filenames"
   ]
  },
  {
   "cell_type": "code",
   "execution_count": 3,
   "id": "33edb692-eb40-4b00-9670-b12670bee39d",
   "metadata": {},
   "outputs": [],
   "source": [
    "combined = pd.concat([pd.read_csv(f, encoding='latin-1', sep=';') for f in all_filenames ])\n",
    "combined.reset_index(inplace=True)"
   ]
  },
  {
   "cell_type": "code",
   "execution_count": 5,
   "id": "bc867667-cf37-4755-b24c-2d1c8837a8e8",
   "metadata": {},
   "outputs": [],
   "source": [
    "combined.to_csv( \"combined_csv.csv\", index=False, encoding='utf-8')"
   ]
  }
 ],
 "metadata": {
  "kernelspec": {
   "display_name": "Python 3 (ipykernel)",
   "language": "python",
   "name": "python3"
  },
  "language_info": {
   "codemirror_mode": {
    "name": "ipython",
    "version": 3
   },
   "file_extension": ".py",
   "mimetype": "text/x-python",
   "name": "python",
   "nbconvert_exporter": "python",
   "pygments_lexer": "ipython3",
   "version": "3.10.5"
  }
 },
 "nbformat": 4,
 "nbformat_minor": 5
}
