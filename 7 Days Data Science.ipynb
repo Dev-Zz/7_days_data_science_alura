{
 "cells": [
  {
   "cell_type": "markdown",
   "id": "77e649a2-d8e3-4f03-adec-4789aa10016c",
   "metadata": {},
   "source": [
    "# 7 Days Data Science"
   ]
  },
  {
   "cell_type": "markdown",
   "id": "2daa4f18-f8b8-4cd8-a970-5484226e58c1",
   "metadata": {},
   "source": [
    "## Primeiro Dia - Limpeza dos Dados"
   ]
  },
  {
   "cell_type": "markdown",
   "id": "67fa2ef7-c063-4d0a-b6c8-c320ff137ea3",
   "metadata": {},
   "source": [
    "No primeiro dia, nos foi passado os [Dados Abertos - CEAPS](https://www12.senado.leg.br/transparencia/dados-abertos-transparencia/dados-abertos-ceaps?utm_source=ActiveCampaign&utm_medium=email&utm_content=%237DaysOfCode+-+Ci%C3%AAncia+de+Dados+1%2F7%3A+Data+Cleaning+and+Preparation&utm_campaign=%5BAlura+%237Days+Of+Code%5D%28Java%29+Dia+1%2F7%3A+Consumir+uma+API+de+filmes), precisamos entender os dados, procurar inconsistências, fazer a limpeza."
   ]
  },
  {
   "cell_type": "markdown",
   "id": "61b91774-da61-4800-9c29-f352ad877343",
   "metadata": {},
   "source": [
    "No notebook Concatenar Dados eu unifiquei todos os dados em um unico arquivo. Irei chamar abaixo."
   ]
  },
  {
   "cell_type": "code",
   "execution_count": 5,
   "id": "bf75e771-08ef-4f36-8602-759e2afb71fa",
   "metadata": {},
   "outputs": [],
   "source": [
    "import pandas as pd"
   ]
  },
  {
   "cell_type": "code",
   "execution_count": 6,
   "id": "471b5720-6ad3-4b7b-ac3f-6679f51a9769",
   "metadata": {},
   "outputs": [],
   "source": [
    "dataset = pd.read_csv(r\"C:\\Users\\Jose Eduardo\\Documents\\GitHub\\7_days_data_science_alura\\Dados\\combined_csv.csv\")"
   ]
  },
  {
   "cell_type": "code",
   "execution_count": 7,
   "id": "84254190-8261-437f-b57d-b8c558920919",
   "metadata": {},
   "outputs": [
    {
     "data": {
      "text/html": [
       "<div>\n",
       "<style scoped>\n",
       "    .dataframe tbody tr th:only-of-type {\n",
       "        vertical-align: middle;\n",
       "    }\n",
       "\n",
       "    .dataframe tbody tr th {\n",
       "        vertical-align: top;\n",
       "    }\n",
       "\n",
       "    .dataframe thead th {\n",
       "        text-align: right;\n",
       "    }\n",
       "</style>\n",
       "<table border=\"1\" class=\"dataframe\">\n",
       "  <thead>\n",
       "    <tr style=\"text-align: right;\">\n",
       "      <th></th>\n",
       "      <th>index</th>\n",
       "      <th>ANO</th>\n",
       "      <th>MES</th>\n",
       "      <th>SENADOR</th>\n",
       "      <th>TIPO_DESPESA</th>\n",
       "      <th>CNPJ_CPF</th>\n",
       "      <th>FORNECEDOR</th>\n",
       "      <th>DOCUMENTO</th>\n",
       "      <th>DATA</th>\n",
       "      <th>DETALHAMENTO</th>\n",
       "      <th>VALOR_REEMBOLSADO</th>\n",
       "      <th>COD_DOCUMENTO</th>\n",
       "    </tr>\n",
       "  </thead>\n",
       "  <tbody>\n",
       "    <tr>\n",
       "      <th>0</th>\n",
       "      <td>0</td>\n",
       "      <td>2019</td>\n",
       "      <td>1</td>\n",
       "      <td>ACIR GURGACZ</td>\n",
       "      <td>Aluguel de imóveis para escritório político, c...</td>\n",
       "      <td>05.914.650/0001-66</td>\n",
       "      <td>ENERGISA</td>\n",
       "      <td>6582758</td>\n",
       "      <td>04/01/2019</td>\n",
       "      <td>Despesa com pagamento de energia elétrica do e...</td>\n",
       "      <td>66,02</td>\n",
       "      <td>2116543</td>\n",
       "    </tr>\n",
       "    <tr>\n",
       "      <th>1</th>\n",
       "      <td>1</td>\n",
       "      <td>2019</td>\n",
       "      <td>1</td>\n",
       "      <td>ACIR GURGACZ</td>\n",
       "      <td>Aluguel de imóveis para escritório político, c...</td>\n",
       "      <td>05.914.650/0001-66</td>\n",
       "      <td>ENERGISA</td>\n",
       "      <td>6582755</td>\n",
       "      <td>04/01/2019</td>\n",
       "      <td>Despesa com pagamento de energia elétrica do e...</td>\n",
       "      <td>139,98</td>\n",
       "      <td>2116546</td>\n",
       "    </tr>\n",
       "    <tr>\n",
       "      <th>2</th>\n",
       "      <td>2</td>\n",
       "      <td>2019</td>\n",
       "      <td>1</td>\n",
       "      <td>ACIR GURGACZ</td>\n",
       "      <td>Aluguel de imóveis para escritório político, c...</td>\n",
       "      <td>004.948.028-63</td>\n",
       "      <td>GILBERTO PISELO DO NASCIMENTO</td>\n",
       "      <td>119</td>\n",
       "      <td>07/01/2019</td>\n",
       "      <td>Despesa com pagamento de aluguel de imóvel par...</td>\n",
       "      <td>6000</td>\n",
       "      <td>2113817</td>\n",
       "    </tr>\n",
       "  </tbody>\n",
       "</table>\n",
       "</div>"
      ],
      "text/plain": [
       "   index   ANO  MES       SENADOR  \\\n",
       "0      0  2019    1  ACIR GURGACZ   \n",
       "1      1  2019    1  ACIR GURGACZ   \n",
       "2      2  2019    1  ACIR GURGACZ   \n",
       "\n",
       "                                        TIPO_DESPESA            CNPJ_CPF  \\\n",
       "0  Aluguel de imóveis para escritório político, c...  05.914.650/0001-66   \n",
       "1  Aluguel de imóveis para escritório político, c...  05.914.650/0001-66   \n",
       "2  Aluguel de imóveis para escritório político, c...      004.948.028-63   \n",
       "\n",
       "                      FORNECEDOR DOCUMENTO        DATA  \\\n",
       "0                       ENERGISA   6582758  04/01/2019   \n",
       "1                       ENERGISA   6582755  04/01/2019   \n",
       "2  GILBERTO PISELO DO NASCIMENTO       119  07/01/2019   \n",
       "\n",
       "                                        DETALHAMENTO VALOR_REEMBOLSADO  \\\n",
       "0  Despesa com pagamento de energia elétrica do e...             66,02   \n",
       "1  Despesa com pagamento de energia elétrica do e...            139,98   \n",
       "2  Despesa com pagamento de aluguel de imóvel par...              6000   \n",
       "\n",
       "   COD_DOCUMENTO  \n",
       "0        2116543  \n",
       "1        2116546  \n",
       "2        2113817  "
      ]
     },
     "execution_count": 7,
     "metadata": {},
     "output_type": "execute_result"
    }
   ],
   "source": [
    "dataset.head(3)"
   ]
  },
  {
   "cell_type": "markdown",
   "id": "2f89925e-7301-4770-b069-38250634e10d",
   "metadata": {},
   "source": [
    "Por algum motivo veio também uma coluna Index, primeira coisa irei retirar o DataFrame"
   ]
  },
  {
   "cell_type": "code",
   "execution_count": 8,
   "id": "223b5b61-8a02-4bfc-8111-87bb711740d3",
   "metadata": {},
   "outputs": [],
   "source": [
    "dataset.drop(columns=['index'], inplace=True)"
   ]
  },
  {
   "cell_type": "code",
   "execution_count": 9,
   "id": "9fd0dca5-e47f-4857-893a-bc308c90c3d6",
   "metadata": {},
   "outputs": [
    {
     "data": {
      "text/html": [
       "<div>\n",
       "<style scoped>\n",
       "    .dataframe tbody tr th:only-of-type {\n",
       "        vertical-align: middle;\n",
       "    }\n",
       "\n",
       "    .dataframe tbody tr th {\n",
       "        vertical-align: top;\n",
       "    }\n",
       "\n",
       "    .dataframe thead th {\n",
       "        text-align: right;\n",
       "    }\n",
       "</style>\n",
       "<table border=\"1\" class=\"dataframe\">\n",
       "  <thead>\n",
       "    <tr style=\"text-align: right;\">\n",
       "      <th></th>\n",
       "      <th>ANO</th>\n",
       "      <th>MES</th>\n",
       "      <th>SENADOR</th>\n",
       "      <th>TIPO_DESPESA</th>\n",
       "      <th>CNPJ_CPF</th>\n",
       "      <th>FORNECEDOR</th>\n",
       "      <th>DOCUMENTO</th>\n",
       "      <th>DATA</th>\n",
       "      <th>DETALHAMENTO</th>\n",
       "      <th>VALOR_REEMBOLSADO</th>\n",
       "      <th>COD_DOCUMENTO</th>\n",
       "    </tr>\n",
       "  </thead>\n",
       "  <tbody>\n",
       "    <tr>\n",
       "      <th>0</th>\n",
       "      <td>2019</td>\n",
       "      <td>1</td>\n",
       "      <td>ACIR GURGACZ</td>\n",
       "      <td>Aluguel de imóveis para escritório político, c...</td>\n",
       "      <td>05.914.650/0001-66</td>\n",
       "      <td>ENERGISA</td>\n",
       "      <td>6582758</td>\n",
       "      <td>04/01/2019</td>\n",
       "      <td>Despesa com pagamento de energia elétrica do e...</td>\n",
       "      <td>66,02</td>\n",
       "      <td>2116543</td>\n",
       "    </tr>\n",
       "    <tr>\n",
       "      <th>1</th>\n",
       "      <td>2019</td>\n",
       "      <td>1</td>\n",
       "      <td>ACIR GURGACZ</td>\n",
       "      <td>Aluguel de imóveis para escritório político, c...</td>\n",
       "      <td>05.914.650/0001-66</td>\n",
       "      <td>ENERGISA</td>\n",
       "      <td>6582755</td>\n",
       "      <td>04/01/2019</td>\n",
       "      <td>Despesa com pagamento de energia elétrica do e...</td>\n",
       "      <td>139,98</td>\n",
       "      <td>2116546</td>\n",
       "    </tr>\n",
       "    <tr>\n",
       "      <th>2</th>\n",
       "      <td>2019</td>\n",
       "      <td>1</td>\n",
       "      <td>ACIR GURGACZ</td>\n",
       "      <td>Aluguel de imóveis para escritório político, c...</td>\n",
       "      <td>004.948.028-63</td>\n",
       "      <td>GILBERTO PISELO DO NASCIMENTO</td>\n",
       "      <td>119</td>\n",
       "      <td>07/01/2019</td>\n",
       "      <td>Despesa com pagamento de aluguel de imóvel par...</td>\n",
       "      <td>6000</td>\n",
       "      <td>2113817</td>\n",
       "    </tr>\n",
       "    <tr>\n",
       "      <th>3</th>\n",
       "      <td>2019</td>\n",
       "      <td>1</td>\n",
       "      <td>ACIR GURGACZ</td>\n",
       "      <td>Aluguel de imóveis para escritório político, c...</td>\n",
       "      <td>05.423.963/0001-11</td>\n",
       "      <td>OI MÓVEL S.A.</td>\n",
       "      <td>86161151</td>\n",
       "      <td>25/12/2018</td>\n",
       "      <td>Despesa com pagamento de telefonia para o escr...</td>\n",
       "      <td>316,39</td>\n",
       "      <td>2116541</td>\n",
       "    </tr>\n",
       "    <tr>\n",
       "      <th>4</th>\n",
       "      <td>2019</td>\n",
       "      <td>2</td>\n",
       "      <td>ACIR GURGACZ</td>\n",
       "      <td>Aluguel de imóveis para escritório político, c...</td>\n",
       "      <td>05.914.650/0001-66</td>\n",
       "      <td>ENERGISA</td>\n",
       "      <td>7236036</td>\n",
       "      <td>04/02/2019</td>\n",
       "      <td>Despesa com pagamento de energia elétrica para...</td>\n",
       "      <td>99,45</td>\n",
       "      <td>2116550</td>\n",
       "    </tr>\n",
       "    <tr>\n",
       "      <th>...</th>\n",
       "      <td>...</td>\n",
       "      <td>...</td>\n",
       "      <td>...</td>\n",
       "      <td>...</td>\n",
       "      <td>...</td>\n",
       "      <td>...</td>\n",
       "      <td>...</td>\n",
       "      <td>...</td>\n",
       "      <td>...</td>\n",
       "      <td>...</td>\n",
       "      <td>...</td>\n",
       "    </tr>\n",
       "    <tr>\n",
       "      <th>62823</th>\n",
       "      <td>2022</td>\n",
       "      <td>7</td>\n",
       "      <td>ZEQUINHA MARINHO</td>\n",
       "      <td>Passagens aéreas, aquáticas e terrestres nacio...</td>\n",
       "      <td>22.052.777/0001-32</td>\n",
       "      <td>Exceller Tour</td>\n",
       "      <td>FRMXSO</td>\n",
       "      <td>26/07/2022</td>\n",
       "      <td>Companhia Aérea: GOL, Localizador: FRMXSO. Pas...</td>\n",
       "      <td>1826,25</td>\n",
       "      <td>2184750</td>\n",
       "    </tr>\n",
       "    <tr>\n",
       "      <th>62824</th>\n",
       "      <td>2022</td>\n",
       "      <td>7</td>\n",
       "      <td>ZEQUINHA MARINHO</td>\n",
       "      <td>Passagens aéreas, aquáticas e terrestres nacio...</td>\n",
       "      <td>22.052.777/0001-32</td>\n",
       "      <td>Exceller Tour</td>\n",
       "      <td>YQRYAW</td>\n",
       "      <td>26/07/2022</td>\n",
       "      <td>Companhia Aérea: LATAM, Localizador: YQRYAW. P...</td>\n",
       "      <td>2189,41</td>\n",
       "      <td>2184748</td>\n",
       "    </tr>\n",
       "    <tr>\n",
       "      <th>62825</th>\n",
       "      <td>2022</td>\n",
       "      <td>8</td>\n",
       "      <td>ZEQUINHA MARINHO</td>\n",
       "      <td>Locomoção, hospedagem, alimentação, combustíve...</td>\n",
       "      <td>27.522.923/0001-60</td>\n",
       "      <td>Casarao da Vila Restaurante LTDA - ME</td>\n",
       "      <td>127032</td>\n",
       "      <td>03/08/2022</td>\n",
       "      <td>NaN</td>\n",
       "      <td>26,57</td>\n",
       "      <td>2184892</td>\n",
       "    </tr>\n",
       "    <tr>\n",
       "      <th>62826</th>\n",
       "      <td>2022</td>\n",
       "      <td>8</td>\n",
       "      <td>ZEQUINHA MARINHO</td>\n",
       "      <td>Passagens aéreas, aquáticas e terrestres nacio...</td>\n",
       "      <td>22.052.777/0001-32</td>\n",
       "      <td>Exceller Tour</td>\n",
       "      <td>FLXNAO</td>\n",
       "      <td>02/08/2022</td>\n",
       "      <td>Companhia Aérea: GOL, Localizador: FLXNAO. Pas...</td>\n",
       "      <td>3140,46</td>\n",
       "      <td>2185426</td>\n",
       "    </tr>\n",
       "    <tr>\n",
       "      <th>62827</th>\n",
       "      <td>2022</td>\n",
       "      <td>8</td>\n",
       "      <td>ZEQUINHA MARINHO</td>\n",
       "      <td>Passagens aéreas, aquáticas e terrestres nacio...</td>\n",
       "      <td>22.052.777/0001-32</td>\n",
       "      <td>Exceller Tour</td>\n",
       "      <td>TKR98A</td>\n",
       "      <td>07/08/2022</td>\n",
       "      <td>Companhia Aérea: AZUL, Localizador: TKR98A. Pa...</td>\n",
       "      <td>2850,9</td>\n",
       "      <td>2185429</td>\n",
       "    </tr>\n",
       "  </tbody>\n",
       "</table>\n",
       "<p>62828 rows × 11 columns</p>\n",
       "</div>"
      ],
      "text/plain": [
       "        ANO  MES           SENADOR  \\\n",
       "0      2019    1      ACIR GURGACZ   \n",
       "1      2019    1      ACIR GURGACZ   \n",
       "2      2019    1      ACIR GURGACZ   \n",
       "3      2019    1      ACIR GURGACZ   \n",
       "4      2019    2      ACIR GURGACZ   \n",
       "...     ...  ...               ...   \n",
       "62823  2022    7  ZEQUINHA MARINHO   \n",
       "62824  2022    7  ZEQUINHA MARINHO   \n",
       "62825  2022    8  ZEQUINHA MARINHO   \n",
       "62826  2022    8  ZEQUINHA MARINHO   \n",
       "62827  2022    8  ZEQUINHA MARINHO   \n",
       "\n",
       "                                            TIPO_DESPESA            CNPJ_CPF  \\\n",
       "0      Aluguel de imóveis para escritório político, c...  05.914.650/0001-66   \n",
       "1      Aluguel de imóveis para escritório político, c...  05.914.650/0001-66   \n",
       "2      Aluguel de imóveis para escritório político, c...      004.948.028-63   \n",
       "3      Aluguel de imóveis para escritório político, c...  05.423.963/0001-11   \n",
       "4      Aluguel de imóveis para escritório político, c...  05.914.650/0001-66   \n",
       "...                                                  ...                 ...   \n",
       "62823  Passagens aéreas, aquáticas e terrestres nacio...  22.052.777/0001-32   \n",
       "62824  Passagens aéreas, aquáticas e terrestres nacio...  22.052.777/0001-32   \n",
       "62825  Locomoção, hospedagem, alimentação, combustíve...  27.522.923/0001-60   \n",
       "62826  Passagens aéreas, aquáticas e terrestres nacio...  22.052.777/0001-32   \n",
       "62827  Passagens aéreas, aquáticas e terrestres nacio...  22.052.777/0001-32   \n",
       "\n",
       "                                  FORNECEDOR DOCUMENTO        DATA  \\\n",
       "0                                   ENERGISA   6582758  04/01/2019   \n",
       "1                                   ENERGISA   6582755  04/01/2019   \n",
       "2              GILBERTO PISELO DO NASCIMENTO       119  07/01/2019   \n",
       "3                              OI MÓVEL S.A.  86161151  25/12/2018   \n",
       "4                                   ENERGISA   7236036  04/02/2019   \n",
       "...                                      ...       ...         ...   \n",
       "62823                          Exceller Tour    FRMXSO  26/07/2022   \n",
       "62824                          Exceller Tour    YQRYAW  26/07/2022   \n",
       "62825  Casarao da Vila Restaurante LTDA - ME    127032  03/08/2022   \n",
       "62826                          Exceller Tour    FLXNAO  02/08/2022   \n",
       "62827                          Exceller Tour    TKR98A  07/08/2022   \n",
       "\n",
       "                                            DETALHAMENTO VALOR_REEMBOLSADO  \\\n",
       "0      Despesa com pagamento de energia elétrica do e...             66,02   \n",
       "1      Despesa com pagamento de energia elétrica do e...            139,98   \n",
       "2      Despesa com pagamento de aluguel de imóvel par...              6000   \n",
       "3      Despesa com pagamento de telefonia para o escr...            316,39   \n",
       "4      Despesa com pagamento de energia elétrica para...             99,45   \n",
       "...                                                  ...               ...   \n",
       "62823  Companhia Aérea: GOL, Localizador: FRMXSO. Pas...           1826,25   \n",
       "62824  Companhia Aérea: LATAM, Localizador: YQRYAW. P...           2189,41   \n",
       "62825                                                NaN             26,57   \n",
       "62826  Companhia Aérea: GOL, Localizador: FLXNAO. Pas...           3140,46   \n",
       "62827  Companhia Aérea: AZUL, Localizador: TKR98A. Pa...            2850,9   \n",
       "\n",
       "       COD_DOCUMENTO  \n",
       "0            2116543  \n",
       "1            2116546  \n",
       "2            2113817  \n",
       "3            2116541  \n",
       "4            2116550  \n",
       "...              ...  \n",
       "62823        2184750  \n",
       "62824        2184748  \n",
       "62825        2184892  \n",
       "62826        2185426  \n",
       "62827        2185429  \n",
       "\n",
       "[62828 rows x 11 columns]"
      ]
     },
     "execution_count": 9,
     "metadata": {},
     "output_type": "execute_result"
    }
   ],
   "source": [
    "dataset"
   ]
  },
  {
   "cell_type": "markdown",
   "id": "bfe1ae0f-49c3-404f-a30c-478d58fa2fab",
   "metadata": {},
   "source": [
    "De cara é possível observar que existem VÁRIOS dados NULOS, primeira coisa é entender o por que. Primeiro irei entender quantos dados NULOS existem em cada Coluna."
   ]
  },
  {
   "cell_type": "code",
   "execution_count": 10,
   "id": "63514f7f-8737-49f4-a6af-fc16cd877c2f",
   "metadata": {},
   "outputs": [
    {
     "name": "stdout",
     "output_type": "stream",
     "text": [
      "<class 'pandas.core.frame.DataFrame'>\n",
      "RangeIndex: 62828 entries, 0 to 62827\n",
      "Data columns (total 11 columns):\n",
      " #   Column             Non-Null Count  Dtype \n",
      "---  ------             --------------  ----- \n",
      " 0   ANO                62828 non-null  int64 \n",
      " 1   MES                62828 non-null  int64 \n",
      " 2   SENADOR            62828 non-null  object\n",
      " 3   TIPO_DESPESA       62828 non-null  object\n",
      " 4   CNPJ_CPF           62828 non-null  object\n",
      " 5   FORNECEDOR         62828 non-null  object\n",
      " 6   DOCUMENTO          60236 non-null  object\n",
      " 7   DATA               62828 non-null  object\n",
      " 8   DETALHAMENTO       34957 non-null  object\n",
      " 9   VALOR_REEMBOLSADO  62828 non-null  object\n",
      " 10  COD_DOCUMENTO      62828 non-null  int64 \n",
      "dtypes: int64(3), object(8)\n",
      "memory usage: 5.3+ MB\n"
     ]
    }
   ],
   "source": [
    "dataset.info()"
   ]
  },
  {
   "cell_type": "code",
   "execution_count": 11,
   "id": "6566283b-69cb-4c81-89bf-61de8244f4b6",
   "metadata": {},
   "outputs": [
    {
     "data": {
      "text/plain": [
       "ANO                      0\n",
       "MES                      0\n",
       "SENADOR                  0\n",
       "TIPO_DESPESA             0\n",
       "CNPJ_CPF                 0\n",
       "FORNECEDOR               0\n",
       "DOCUMENTO             2592\n",
       "DATA                     0\n",
       "DETALHAMENTO         27871\n",
       "VALOR_REEMBOLSADO        0\n",
       "COD_DOCUMENTO            0\n",
       "dtype: int64"
      ]
     },
     "execution_count": 11,
     "metadata": {},
     "output_type": "execute_result"
    }
   ],
   "source": [
    "dataset.isnull().sum()"
   ]
  },
  {
   "cell_type": "markdown",
   "id": "32ea3959-c9a7-4629-9586-85be9fe4ece7",
   "metadata": {},
   "source": [
    "Analisando o conjunto de DADOS conseguimos verificar que: **Não excluiremos nenhuma linha**, pois ao meu ver todas as linhas trazem alguma informação relevante, **a coluna 'DOCUMENTO' e 'DETALHAMENTO' tem valores NULOS**, devemos verificar o que fazer, **a coluna 'DATA' está como tipo object**, devemos transformar em datetime para possiveis análises de Séries Temporais, **a coluna 'VALOR_REEMBOLSADO' está como tipo object**, devemos transformar em float."
   ]
  },
  {
   "cell_type": "code",
   "execution_count": 12,
   "id": "311bf0e2-d58c-4b60-be4e-61560277c331",
   "metadata": {},
   "outputs": [
    {
     "data": {
      "text/plain": [
       "0          66,02\n",
       "1         139,98\n",
       "2           6000\n",
       "3         316,39\n",
       "4          99,45\n",
       "          ...   \n",
       "62823    1826,25\n",
       "62824    2189,41\n",
       "62825      26,57\n",
       "62826    3140,46\n",
       "62827     2850,9\n",
       "Name: VALOR_REEMBOLSADO, Length: 62828, dtype: object"
      ]
     },
     "execution_count": 12,
     "metadata": {},
     "output_type": "execute_result"
    }
   ],
   "source": [
    "dataset.VALOR_REEMBOLSADO"
   ]
  },
  {
   "cell_type": "markdown",
   "id": "d5823700-9ebf-4f31-82cc-aa65466877df",
   "metadata": {},
   "source": [
    "Podemos notar que os valores estão separados por virgula, devemos primeiramente substituir para ponto, para que o pandas consiga realizar a transformação."
   ]
  },
  {
   "cell_type": "code",
   "execution_count": 13,
   "id": "a370f900-c5cc-46a8-8208-d6ba8378584f",
   "metadata": {},
   "outputs": [],
   "source": [
    "dataset.VALOR_REEMBOLSADO.replace(',','.', regex=True, inplace=True)"
   ]
  },
  {
   "cell_type": "code",
   "execution_count": 14,
   "id": "889503b4-2d0f-4125-aaa8-81d2459cd0c3",
   "metadata": {},
   "outputs": [
    {
     "data": {
      "text/plain": [
       "0          66.02\n",
       "1         139.98\n",
       "2           6000\n",
       "3         316.39\n",
       "4          99.45\n",
       "          ...   \n",
       "62823    1826.25\n",
       "62824    2189.41\n",
       "62825      26.57\n",
       "62826    3140.46\n",
       "62827     2850.9\n",
       "Name: VALOR_REEMBOLSADO, Length: 62828, dtype: object"
      ]
     },
     "execution_count": 14,
     "metadata": {},
     "output_type": "execute_result"
    }
   ],
   "source": [
    "dataset.VALOR_REEMBOLSADO"
   ]
  },
  {
   "cell_type": "markdown",
   "id": "c80ed251-4731-428d-9940-c0443aacb012",
   "metadata": {},
   "source": [
    "Conforme acima substituimos as virgulas por pontos."
   ]
  },
  {
   "cell_type": "code",
   "execution_count": 15,
   "id": "bb6ce3aa-8abd-4818-a197-ab2b57f2fb4e",
   "metadata": {},
   "outputs": [],
   "source": [
    "dataset.VALOR_REEMBOLSADO = dataset.VALOR_REEMBOLSADO.astype(float)"
   ]
  },
  {
   "cell_type": "code",
   "execution_count": 16,
   "id": "624a016e-eddb-4308-b6c6-e48940707a08",
   "metadata": {},
   "outputs": [
    {
     "name": "stdout",
     "output_type": "stream",
     "text": [
      "<class 'pandas.core.series.Series'>\n",
      "RangeIndex: 62828 entries, 0 to 62827\n",
      "Series name: VALOR_REEMBOLSADO\n",
      "Non-Null Count  Dtype  \n",
      "--------------  -----  \n",
      "62828 non-null  float64\n",
      "dtypes: float64(1)\n",
      "memory usage: 491.0 KB\n"
     ]
    }
   ],
   "source": [
    "dataset.VALOR_REEMBOLSADO.info()"
   ]
  },
  {
   "cell_type": "markdown",
   "id": "444cee87-32a2-4a81-9b48-392674c5294c",
   "metadata": {},
   "source": [
    "Com isso transformamos a coluna 'VALOR_REEMBOLSADO' em float."
   ]
  },
  {
   "cell_type": "code",
   "execution_count": 17,
   "id": "f12ba4f0-036d-45a3-b711-d8af0d743cf3",
   "metadata": {},
   "outputs": [
    {
     "data": {
      "text/plain": [
       "0        04/01/2019\n",
       "1        04/01/2019\n",
       "2        07/01/2019\n",
       "3        25/12/2018\n",
       "4        04/02/2019\n",
       "            ...    \n",
       "62823    26/07/2022\n",
       "62824    26/07/2022\n",
       "62825    03/08/2022\n",
       "62826    02/08/2022\n",
       "62827    07/08/2022\n",
       "Name: DATA, Length: 62828, dtype: object"
      ]
     },
     "execution_count": 17,
     "metadata": {},
     "output_type": "execute_result"
    }
   ],
   "source": [
    "dataset.DATA"
   ]
  },
  {
   "cell_type": "code",
   "execution_count": 18,
   "id": "0b619203-6793-4f87-80b2-b41686ce46da",
   "metadata": {},
   "outputs": [],
   "source": [
    "dataset[(dataset.DATA.index == 10986)] = dataset[(dataset.DATA.index == 10986)].replace('31/01/0219', '31/01/2019')"
   ]
  },
  {
   "cell_type": "code",
   "execution_count": 19,
   "id": "db19ebc8-f7e6-40e2-bad2-7cb4c5777db0",
   "metadata": {},
   "outputs": [
    {
     "data": {
      "text/html": [
       "<div>\n",
       "<style scoped>\n",
       "    .dataframe tbody tr th:only-of-type {\n",
       "        vertical-align: middle;\n",
       "    }\n",
       "\n",
       "    .dataframe tbody tr th {\n",
       "        vertical-align: top;\n",
       "    }\n",
       "\n",
       "    .dataframe thead th {\n",
       "        text-align: right;\n",
       "    }\n",
       "</style>\n",
       "<table border=\"1\" class=\"dataframe\">\n",
       "  <thead>\n",
       "    <tr style=\"text-align: right;\">\n",
       "      <th></th>\n",
       "      <th>ANO</th>\n",
       "      <th>MES</th>\n",
       "      <th>SENADOR</th>\n",
       "      <th>TIPO_DESPESA</th>\n",
       "      <th>CNPJ_CPF</th>\n",
       "      <th>FORNECEDOR</th>\n",
       "      <th>DOCUMENTO</th>\n",
       "      <th>DATA</th>\n",
       "      <th>DETALHAMENTO</th>\n",
       "      <th>VALOR_REEMBOLSADO</th>\n",
       "      <th>COD_DOCUMENTO</th>\n",
       "    </tr>\n",
       "  </thead>\n",
       "  <tbody>\n",
       "    <tr>\n",
       "      <th>10986</th>\n",
       "      <td>2019</td>\n",
       "      <td>1</td>\n",
       "      <td>LÚCIA VÂNIA</td>\n",
       "      <td>Aluguel de imóveis para escritório político, c...</td>\n",
       "      <td>08.573.731/0001-38</td>\n",
       "      <td>LDE Contabilidade e Administração de Condomíni...</td>\n",
       "      <td>107007</td>\n",
       "      <td>31/01/2019</td>\n",
       "      <td>Taxa condominial</td>\n",
       "      <td>271.26</td>\n",
       "      <td>2114251</td>\n",
       "    </tr>\n",
       "  </tbody>\n",
       "</table>\n",
       "</div>"
      ],
      "text/plain": [
       "        ANO  MES      SENADOR  \\\n",
       "10986  2019    1  LÚCIA VÂNIA   \n",
       "\n",
       "                                            TIPO_DESPESA            CNPJ_CPF  \\\n",
       "10986  Aluguel de imóveis para escritório político, c...  08.573.731/0001-38   \n",
       "\n",
       "                                              FORNECEDOR DOCUMENTO  \\\n",
       "10986  LDE Contabilidade e Administração de Condomíni...    107007   \n",
       "\n",
       "             DATA      DETALHAMENTO  VALOR_REEMBOLSADO  COD_DOCUMENTO  \n",
       "10986  31/01/2019  Taxa condominial             271.26        2114251  "
      ]
     },
     "execution_count": 19,
     "metadata": {},
     "output_type": "execute_result"
    }
   ],
   "source": [
    "dataset[(dataset.DATA.index == 10986)]"
   ]
  },
  {
   "cell_type": "code",
   "execution_count": 20,
   "id": "6fa46efc-e4e3-44ce-b09b-a4673d185111",
   "metadata": {},
   "outputs": [],
   "source": [
    "dataset[(dataset.DATA.index == 31996)] = dataset[(dataset.DATA.index == 31996)].replace('05/05/0202', '05/05/2020')"
   ]
  },
  {
   "cell_type": "code",
   "execution_count": 21,
   "id": "e9ce60ce-4ec7-46a8-8f7e-e290d87e86d8",
   "metadata": {},
   "outputs": [
    {
     "data": {
      "text/html": [
       "<div>\n",
       "<style scoped>\n",
       "    .dataframe tbody tr th:only-of-type {\n",
       "        vertical-align: middle;\n",
       "    }\n",
       "\n",
       "    .dataframe tbody tr th {\n",
       "        vertical-align: top;\n",
       "    }\n",
       "\n",
       "    .dataframe thead th {\n",
       "        text-align: right;\n",
       "    }\n",
       "</style>\n",
       "<table border=\"1\" class=\"dataframe\">\n",
       "  <thead>\n",
       "    <tr style=\"text-align: right;\">\n",
       "      <th></th>\n",
       "      <th>ANO</th>\n",
       "      <th>MES</th>\n",
       "      <th>SENADOR</th>\n",
       "      <th>TIPO_DESPESA</th>\n",
       "      <th>CNPJ_CPF</th>\n",
       "      <th>FORNECEDOR</th>\n",
       "      <th>DOCUMENTO</th>\n",
       "      <th>DATA</th>\n",
       "      <th>DETALHAMENTO</th>\n",
       "      <th>VALOR_REEMBOLSADO</th>\n",
       "      <th>COD_DOCUMENTO</th>\n",
       "    </tr>\n",
       "  </thead>\n",
       "  <tbody>\n",
       "    <tr>\n",
       "      <th>31996</th>\n",
       "      <td>2020</td>\n",
       "      <td>5</td>\n",
       "      <td>PLÍNIO VALÉRIO</td>\n",
       "      <td>Divulgação da atividade parlamentar</td>\n",
       "      <td>27.209.437/0001-96</td>\n",
       "      <td>Excelsior Comunicação Digital Ltda</td>\n",
       "      <td>2020/9</td>\n",
       "      <td>05/05/2020</td>\n",
       "      <td>NaN</td>\n",
       "      <td>1150.0</td>\n",
       "      <td>2144535</td>\n",
       "    </tr>\n",
       "  </tbody>\n",
       "</table>\n",
       "</div>"
      ],
      "text/plain": [
       "        ANO  MES         SENADOR                         TIPO_DESPESA  \\\n",
       "31996  2020    5  PLÍNIO VALÉRIO  Divulgação da atividade parlamentar   \n",
       "\n",
       "                 CNPJ_CPF                          FORNECEDOR DOCUMENTO  \\\n",
       "31996  27.209.437/0001-96  Excelsior Comunicação Digital Ltda    2020/9   \n",
       "\n",
       "             DATA DETALHAMENTO  VALOR_REEMBOLSADO  COD_DOCUMENTO  \n",
       "31996  05/05/2020          NaN             1150.0        2144535  "
      ]
     },
     "execution_count": 21,
     "metadata": {},
     "output_type": "execute_result"
    }
   ],
   "source": [
    "dataset[(dataset.DATA.index == 31996)]"
   ]
  },
  {
   "cell_type": "code",
   "execution_count": 22,
   "id": "e8222bce-1a3f-497c-87e9-44eb5b626902",
   "metadata": {},
   "outputs": [],
   "source": [
    "dataset[(dataset.DATA.index == 37872)] = dataset[(dataset.DATA.index == 37872)].replace('29/10/0202', '29/10/2021')"
   ]
  },
  {
   "cell_type": "code",
   "execution_count": 23,
   "id": "8a8d0d2b-3189-458f-9419-2f90f64486ca",
   "metadata": {},
   "outputs": [
    {
     "data": {
      "text/html": [
       "<div>\n",
       "<style scoped>\n",
       "    .dataframe tbody tr th:only-of-type {\n",
       "        vertical-align: middle;\n",
       "    }\n",
       "\n",
       "    .dataframe tbody tr th {\n",
       "        vertical-align: top;\n",
       "    }\n",
       "\n",
       "    .dataframe thead th {\n",
       "        text-align: right;\n",
       "    }\n",
       "</style>\n",
       "<table border=\"1\" class=\"dataframe\">\n",
       "  <thead>\n",
       "    <tr style=\"text-align: right;\">\n",
       "      <th></th>\n",
       "      <th>ANO</th>\n",
       "      <th>MES</th>\n",
       "      <th>SENADOR</th>\n",
       "      <th>TIPO_DESPESA</th>\n",
       "      <th>CNPJ_CPF</th>\n",
       "      <th>FORNECEDOR</th>\n",
       "      <th>DOCUMENTO</th>\n",
       "      <th>DATA</th>\n",
       "      <th>DETALHAMENTO</th>\n",
       "      <th>VALOR_REEMBOLSADO</th>\n",
       "      <th>COD_DOCUMENTO</th>\n",
       "    </tr>\n",
       "  </thead>\n",
       "  <tbody>\n",
       "    <tr>\n",
       "      <th>37872</th>\n",
       "      <td>2021</td>\n",
       "      <td>11</td>\n",
       "      <td>CARLOS VIANA</td>\n",
       "      <td>Passagens aéreas, aquáticas e terrestres nacio...</td>\n",
       "      <td>16.978.175/0001-08</td>\n",
       "      <td>ADRIA VIAGENS E TURISMO LTDA</td>\n",
       "      <td>YK1QHD</td>\n",
       "      <td>29/10/2021</td>\n",
       "      <td>Companhia Aérea: AZUL, Localizador: YK1QHD. Pa...</td>\n",
       "      <td>339.9</td>\n",
       "      <td>2169237</td>\n",
       "    </tr>\n",
       "  </tbody>\n",
       "</table>\n",
       "</div>"
      ],
      "text/plain": [
       "        ANO  MES       SENADOR  \\\n",
       "37872  2021   11  CARLOS VIANA   \n",
       "\n",
       "                                            TIPO_DESPESA            CNPJ_CPF  \\\n",
       "37872  Passagens aéreas, aquáticas e terrestres nacio...  16.978.175/0001-08   \n",
       "\n",
       "                         FORNECEDOR DOCUMENTO        DATA  \\\n",
       "37872  ADRIA VIAGENS E TURISMO LTDA    YK1QHD  29/10/2021   \n",
       "\n",
       "                                            DETALHAMENTO  VALOR_REEMBOLSADO  \\\n",
       "37872  Companhia Aérea: AZUL, Localizador: YK1QHD. Pa...              339.9   \n",
       "\n",
       "       COD_DOCUMENTO  \n",
       "37872        2169237  "
      ]
     },
     "execution_count": 23,
     "metadata": {},
     "output_type": "execute_result"
    }
   ],
   "source": [
    "dataset[(dataset.DATA.index == 37872)]"
   ]
  },
  {
   "cell_type": "code",
   "execution_count": 24,
   "id": "35d016da-9082-472a-a13f-4fc0f0f0e572",
   "metadata": {},
   "outputs": [],
   "source": [
    "dataset.DATA = pd.to_datetime(dataset.DATA, dayfirst=True)"
   ]
  },
  {
   "cell_type": "code",
   "execution_count": 25,
   "id": "ed426f09-059b-463a-adba-37d9042b484b",
   "metadata": {},
   "outputs": [
    {
     "name": "stdout",
     "output_type": "stream",
     "text": [
      "<class 'pandas.core.series.Series'>\n",
      "RangeIndex: 62828 entries, 0 to 62827\n",
      "Series name: DATA\n",
      "Non-Null Count  Dtype         \n",
      "--------------  -----         \n",
      "62828 non-null  datetime64[ns]\n",
      "dtypes: datetime64[ns](1)\n",
      "memory usage: 491.0 KB\n"
     ]
    }
   ],
   "source": [
    "dataset.DATA.info()"
   ]
  },
  {
   "cell_type": "code",
   "execution_count": 26,
   "id": "d8bd663e-0c52-41fe-9953-83b84d7b023d",
   "metadata": {},
   "outputs": [
    {
     "name": "stdout",
     "output_type": "stream",
     "text": [
      "<class 'pandas.core.frame.DataFrame'>\n",
      "RangeIndex: 62828 entries, 0 to 62827\n",
      "Data columns (total 11 columns):\n",
      " #   Column             Non-Null Count  Dtype         \n",
      "---  ------             --------------  -----         \n",
      " 0   ANO                62828 non-null  int64         \n",
      " 1   MES                62828 non-null  int64         \n",
      " 2   SENADOR            62828 non-null  object        \n",
      " 3   TIPO_DESPESA       62828 non-null  object        \n",
      " 4   CNPJ_CPF           62828 non-null  object        \n",
      " 5   FORNECEDOR         62828 non-null  object        \n",
      " 6   DOCUMENTO          60236 non-null  object        \n",
      " 7   DATA               62828 non-null  datetime64[ns]\n",
      " 8   DETALHAMENTO       34957 non-null  object        \n",
      " 9   VALOR_REEMBOLSADO  62828 non-null  float64       \n",
      " 10  COD_DOCUMENTO      62828 non-null  int64         \n",
      "dtypes: datetime64[ns](1), float64(1), int64(3), object(6)\n",
      "memory usage: 5.3+ MB\n"
     ]
    }
   ],
   "source": [
    "dataset.info()"
   ]
  },
  {
   "cell_type": "markdown",
   "id": "af116c62-8670-41c5-b739-e01220f08ea9",
   "metadata": {},
   "source": [
    "Foi feito as alterações das colunas 'DATA' e 'VALOR_REEMBOLSADO' os valores NULOS eu não irei alterar, pois entendo que são valores **NÃO CADASTRADOS**."
   ]
  },
  {
   "cell_type": "markdown",
   "id": "e2eecb13-b547-4424-921d-f289148d4478",
   "metadata": {},
   "source": [
    "## Segundo Dia - Storytelling e Visualização"
   ]
  },
  {
   "cell_type": "code",
   "execution_count": 27,
   "id": "422aff51-e705-4c19-bbc9-118b484c053a",
   "metadata": {},
   "outputs": [
    {
     "data": {
      "text/html": [
       "<div>\n",
       "<style scoped>\n",
       "    .dataframe tbody tr th:only-of-type {\n",
       "        vertical-align: middle;\n",
       "    }\n",
       "\n",
       "    .dataframe tbody tr th {\n",
       "        vertical-align: top;\n",
       "    }\n",
       "\n",
       "    .dataframe thead th {\n",
       "        text-align: right;\n",
       "    }\n",
       "</style>\n",
       "<table border=\"1\" class=\"dataframe\">\n",
       "  <thead>\n",
       "    <tr style=\"text-align: right;\">\n",
       "      <th></th>\n",
       "      <th>ANO</th>\n",
       "      <th>MES</th>\n",
       "      <th>SENADOR</th>\n",
       "      <th>TIPO_DESPESA</th>\n",
       "      <th>CNPJ_CPF</th>\n",
       "      <th>FORNECEDOR</th>\n",
       "      <th>DOCUMENTO</th>\n",
       "      <th>DATA</th>\n",
       "      <th>DETALHAMENTO</th>\n",
       "      <th>VALOR_REEMBOLSADO</th>\n",
       "      <th>COD_DOCUMENTO</th>\n",
       "    </tr>\n",
       "  </thead>\n",
       "  <tbody>\n",
       "    <tr>\n",
       "      <th>0</th>\n",
       "      <td>2019</td>\n",
       "      <td>1</td>\n",
       "      <td>ACIR GURGACZ</td>\n",
       "      <td>Aluguel de imóveis para escritório político, c...</td>\n",
       "      <td>05.914.650/0001-66</td>\n",
       "      <td>ENERGISA</td>\n",
       "      <td>6582758</td>\n",
       "      <td>2019-01-04</td>\n",
       "      <td>Despesa com pagamento de energia elétrica do e...</td>\n",
       "      <td>66.02</td>\n",
       "      <td>2116543</td>\n",
       "    </tr>\n",
       "    <tr>\n",
       "      <th>1</th>\n",
       "      <td>2019</td>\n",
       "      <td>1</td>\n",
       "      <td>ACIR GURGACZ</td>\n",
       "      <td>Aluguel de imóveis para escritório político, c...</td>\n",
       "      <td>05.914.650/0001-66</td>\n",
       "      <td>ENERGISA</td>\n",
       "      <td>6582755</td>\n",
       "      <td>2019-01-04</td>\n",
       "      <td>Despesa com pagamento de energia elétrica do e...</td>\n",
       "      <td>139.98</td>\n",
       "      <td>2116546</td>\n",
       "    </tr>\n",
       "    <tr>\n",
       "      <th>2</th>\n",
       "      <td>2019</td>\n",
       "      <td>1</td>\n",
       "      <td>ACIR GURGACZ</td>\n",
       "      <td>Aluguel de imóveis para escritório político, c...</td>\n",
       "      <td>004.948.028-63</td>\n",
       "      <td>GILBERTO PISELO DO NASCIMENTO</td>\n",
       "      <td>119</td>\n",
       "      <td>2019-01-07</td>\n",
       "      <td>Despesa com pagamento de aluguel de imóvel par...</td>\n",
       "      <td>6000.00</td>\n",
       "      <td>2113817</td>\n",
       "    </tr>\n",
       "    <tr>\n",
       "      <th>3</th>\n",
       "      <td>2019</td>\n",
       "      <td>1</td>\n",
       "      <td>ACIR GURGACZ</td>\n",
       "      <td>Aluguel de imóveis para escritório político, c...</td>\n",
       "      <td>05.423.963/0001-11</td>\n",
       "      <td>OI MÓVEL S.A.</td>\n",
       "      <td>86161151</td>\n",
       "      <td>2018-12-25</td>\n",
       "      <td>Despesa com pagamento de telefonia para o escr...</td>\n",
       "      <td>316.39</td>\n",
       "      <td>2116541</td>\n",
       "    </tr>\n",
       "    <tr>\n",
       "      <th>4</th>\n",
       "      <td>2019</td>\n",
       "      <td>2</td>\n",
       "      <td>ACIR GURGACZ</td>\n",
       "      <td>Aluguel de imóveis para escritório político, c...</td>\n",
       "      <td>05.914.650/0001-66</td>\n",
       "      <td>ENERGISA</td>\n",
       "      <td>7236036</td>\n",
       "      <td>2019-02-04</td>\n",
       "      <td>Despesa com pagamento de energia elétrica para...</td>\n",
       "      <td>99.45</td>\n",
       "      <td>2116550</td>\n",
       "    </tr>\n",
       "  </tbody>\n",
       "</table>\n",
       "</div>"
      ],
      "text/plain": [
       "    ANO  MES       SENADOR                                       TIPO_DESPESA  \\\n",
       "0  2019    1  ACIR GURGACZ  Aluguel de imóveis para escritório político, c...   \n",
       "1  2019    1  ACIR GURGACZ  Aluguel de imóveis para escritório político, c...   \n",
       "2  2019    1  ACIR GURGACZ  Aluguel de imóveis para escritório político, c...   \n",
       "3  2019    1  ACIR GURGACZ  Aluguel de imóveis para escritório político, c...   \n",
       "4  2019    2  ACIR GURGACZ  Aluguel de imóveis para escritório político, c...   \n",
       "\n",
       "             CNPJ_CPF                     FORNECEDOR DOCUMENTO       DATA  \\\n",
       "0  05.914.650/0001-66                       ENERGISA   6582758 2019-01-04   \n",
       "1  05.914.650/0001-66                       ENERGISA   6582755 2019-01-04   \n",
       "2      004.948.028-63  GILBERTO PISELO DO NASCIMENTO       119 2019-01-07   \n",
       "3  05.423.963/0001-11                  OI MÓVEL S.A.  86161151 2018-12-25   \n",
       "4  05.914.650/0001-66                       ENERGISA   7236036 2019-02-04   \n",
       "\n",
       "                                        DETALHAMENTO  VALOR_REEMBOLSADO  \\\n",
       "0  Despesa com pagamento de energia elétrica do e...              66.02   \n",
       "1  Despesa com pagamento de energia elétrica do e...             139.98   \n",
       "2  Despesa com pagamento de aluguel de imóvel par...            6000.00   \n",
       "3  Despesa com pagamento de telefonia para o escr...             316.39   \n",
       "4  Despesa com pagamento de energia elétrica para...              99.45   \n",
       "\n",
       "   COD_DOCUMENTO  \n",
       "0        2116543  \n",
       "1        2116546  \n",
       "2        2113817  \n",
       "3        2116541  \n",
       "4        2116550  "
      ]
     },
     "execution_count": 27,
     "metadata": {},
     "output_type": "execute_result"
    }
   ],
   "source": [
    "dataset.head()"
   ]
  },
  {
   "cell_type": "markdown",
   "id": "ee01249d-88e8-4d56-8080-157a795862ea",
   "metadata": {},
   "source": [
    "Primeira coisa que quero saber é qual SENADOR mais pediu REEMBOLSO, para isso irei utilizar o countplot, abaixo eu importo as bibliotecas que irei precisar e crio uma função para plotar o gráfico countplot de uma forma que eu gosto."
   ]
  },
  {
   "cell_type": "code",
   "execution_count": 28,
   "id": "6c437cf9-458d-418a-a3c9-b545be347055",
   "metadata": {},
   "outputs": [],
   "source": [
    "import seaborn as sns\n",
    "import numpy as np\n",
    "import matplotlib.pyplot as plt"
   ]
  },
  {
   "cell_type": "code",
   "execution_count": 29,
   "id": "784179e2-bb37-4101-9e6f-0004a73d112a",
   "metadata": {},
   "outputs": [],
   "source": [
    "def plot_countplot(data, x, title, label_x: str, figsize: tuple = (8, 5), hue=None, small: bool = True):\n",
    "    plt.figure(figsize=figsize)\n",
    "    custom_params = {\"axes.spines.right\": False, \"axes.spines.top\": False,\n",
    "                     \"axes.spines.left\": False, \"axes.spines.bottom\": True,}\n",
    "    \n",
    "    sns.set_theme(style=\"whitegrid\", rc=custom_params)\n",
    "    ax = sns.countplot(x=x, hue=hue, data=data, palette='viridis')\n",
    "    \n",
    "    ax.set(ylabel=None)\n",
    "    ax.get_yaxis().set_visible(True)\n",
    "\n",
    "    plt.title(title, fontsize=22, loc='center', pad=50)\n",
    "    plt.xlabel(label_x, fontsize=17, labelpad=20)\n",
    "    plt.xticks(fontsize=15)\n",
    "\n",
    "    for container in ax.containers:\n",
    "        if small:\n",
    "            ax.bar_label(container, fontsize=15)\n",
    "        else:\n",
    "            ax.bar_label(container, fontsize=15, padding=-17, color='black')\n",
    "\n",
    "    plt.show()"
   ]
  },
  {
   "cell_type": "markdown",
   "id": "87a890e3-7534-4d83-9093-1c3b463a1439",
   "metadata": {},
   "source": [
    "Para descobrir qual o SENADOR que mais pediu REEMBOLSO eu irei CONTAR quantas vezes o nome do mesmo aparece em meu DataFrame, para isso usarei a função .value_counts()"
   ]
  },
  {
   "cell_type": "code",
   "execution_count": 30,
   "id": "e28ff1cf-64be-4b35-8daa-7aeafb364719",
   "metadata": {},
   "outputs": [
    {
     "data": {
      "text/plain": [
       "CARLOS VIANA           2019\n",
       "WELLINGTON FAGUNDES    1893\n",
       "JAQUES WAGNER          1875\n",
       "HUMBERTO COSTA         1704\n",
       "PAULO PAIM             1658\n",
       "ZEQUINHA MARINHO       1647\n",
       "LUIS CARLOS HEINZE     1634\n",
       "TELMÁRIO MOTA          1474\n",
       "JORGINHO MELLO         1307\n",
       "FABIANO CONTARATO      1295\n",
       "Name: SENADOR, dtype: int64"
      ]
     },
     "execution_count": 30,
     "metadata": {},
     "output_type": "execute_result"
    }
   ],
   "source": [
    "dataset.SENADOR.value_counts().head(10)"
   ]
  },
  {
   "cell_type": "markdown",
   "id": "1c38b29f-083c-4bda-a17f-1c14a167e72b",
   "metadata": {},
   "source": [
    "Dessa forma temos os 10 SENADORES que mais utilizaram do REEMBOLSO nos ultimos 4 anos."
   ]
  },
  {
   "cell_type": "code",
   "execution_count": 31,
   "id": "1c0daa84-facd-4686-8cc7-7831ba38d31d",
   "metadata": {},
   "outputs": [
    {
     "data": {
      "text/plain": [
       "Index(['CARLOS VIANA', 'WELLINGTON FAGUNDES', 'JAQUES WAGNER',\n",
       "       'HUMBERTO COSTA', 'PAULO PAIM', 'ZEQUINHA MARINHO',\n",
       "       'LUIS CARLOS HEINZE', 'TELMÁRIO MOTA', 'JORGINHO MELLO',\n",
       "       'FABIANO CONTARATO'],\n",
       "      dtype='object')"
      ]
     },
     "execution_count": 31,
     "metadata": {},
     "output_type": "execute_result"
    }
   ],
   "source": [
    "dataset.SENADOR.value_counts().head(10).index"
   ]
  },
  {
   "cell_type": "code",
   "execution_count": 32,
   "id": "72358d35-1df0-4ab2-9b13-8ca56193fa2f",
   "metadata": {},
   "outputs": [],
   "source": [
    "senador_maior_reembolso = {\n",
    "    'CARLOS VIANA' : 2019,\n",
    "    'WELLINGTON FAGUNDES' : 1893,\n",
    "    'JAQUES WAGNER': 1875,\n",
    "    'HUMBERTO COSTA' : 1704,\n",
    "    'PAULO PAIM' : 1658,\n",
    "    'ZEQUINHA MARINHO' : 1647,\n",
    "    'LUIS CARLOS HEINZE' : 1634, \n",
    "    'TELMÁRIO MOTA' : 1474, \n",
    "    'JORGINHO MELLO' : 1307,\n",
    "    'FABIANO CONTARATO': 1295\n",
    "}"
   ]
  },
  {
   "cell_type": "code",
   "execution_count": 33,
   "id": "5442014a-dfcb-416e-a53a-60645403d333",
   "metadata": {},
   "outputs": [
    {
     "data": {
      "text/plain": [
       "{'CARLOS VIANA': 2019,\n",
       " 'WELLINGTON FAGUNDES': 1893,\n",
       " 'JAQUES WAGNER': 1875,\n",
       " 'HUMBERTO COSTA': 1704,\n",
       " 'PAULO PAIM': 1658,\n",
       " 'ZEQUINHA MARINHO': 1647,\n",
       " 'LUIS CARLOS HEINZE': 1634,\n",
       " 'TELMÁRIO MOTA': 1474,\n",
       " 'JORGINHO MELLO': 1307,\n",
       " 'FABIANO CONTARATO': 1295}"
      ]
     },
     "execution_count": 33,
     "metadata": {},
     "output_type": "execute_result"
    }
   ],
   "source": [
    "senador_maior_reembolso"
   ]
  },
  {
   "cell_type": "code",
   "execution_count": 52,
   "id": "dded893f-7b1d-4dcc-a89d-ade4f56a4e2c",
   "metadata": {},
   "outputs": [],
   "source": [
    "vezes_reembolso = pd.DataFrame(senador_maior_reembolso.items(),\n",
    "                   columns=['SENADOR', 'VEZES_REEMBOLSO'])"
   ]
  },
  {
   "cell_type": "code",
   "execution_count": 53,
   "id": "e7ce1a20-46c4-4996-b04a-c0971651b9b3",
   "metadata": {},
   "outputs": [
    {
     "data": {
      "text/html": [
       "<div>\n",
       "<style scoped>\n",
       "    .dataframe tbody tr th:only-of-type {\n",
       "        vertical-align: middle;\n",
       "    }\n",
       "\n",
       "    .dataframe tbody tr th {\n",
       "        vertical-align: top;\n",
       "    }\n",
       "\n",
       "    .dataframe thead th {\n",
       "        text-align: right;\n",
       "    }\n",
       "</style>\n",
       "<table border=\"1\" class=\"dataframe\">\n",
       "  <thead>\n",
       "    <tr style=\"text-align: right;\">\n",
       "      <th></th>\n",
       "      <th>SENADOR</th>\n",
       "      <th>VEZES_REEMBOLSO</th>\n",
       "    </tr>\n",
       "  </thead>\n",
       "  <tbody>\n",
       "    <tr>\n",
       "      <th>0</th>\n",
       "      <td>CARLOS VIANA</td>\n",
       "      <td>2019</td>\n",
       "    </tr>\n",
       "    <tr>\n",
       "      <th>1</th>\n",
       "      <td>WELLINGTON FAGUNDES</td>\n",
       "      <td>1893</td>\n",
       "    </tr>\n",
       "    <tr>\n",
       "      <th>2</th>\n",
       "      <td>JAQUES WAGNER</td>\n",
       "      <td>1875</td>\n",
       "    </tr>\n",
       "    <tr>\n",
       "      <th>3</th>\n",
       "      <td>HUMBERTO COSTA</td>\n",
       "      <td>1704</td>\n",
       "    </tr>\n",
       "    <tr>\n",
       "      <th>4</th>\n",
       "      <td>PAULO PAIM</td>\n",
       "      <td>1658</td>\n",
       "    </tr>\n",
       "    <tr>\n",
       "      <th>5</th>\n",
       "      <td>ZEQUINHA MARINHO</td>\n",
       "      <td>1647</td>\n",
       "    </tr>\n",
       "    <tr>\n",
       "      <th>6</th>\n",
       "      <td>LUIS CARLOS HEINZE</td>\n",
       "      <td>1634</td>\n",
       "    </tr>\n",
       "    <tr>\n",
       "      <th>7</th>\n",
       "      <td>TELMÁRIO MOTA</td>\n",
       "      <td>1474</td>\n",
       "    </tr>\n",
       "    <tr>\n",
       "      <th>8</th>\n",
       "      <td>JORGINHO MELLO</td>\n",
       "      <td>1307</td>\n",
       "    </tr>\n",
       "    <tr>\n",
       "      <th>9</th>\n",
       "      <td>FABIANO CONTARATO</td>\n",
       "      <td>1295</td>\n",
       "    </tr>\n",
       "  </tbody>\n",
       "</table>\n",
       "</div>"
      ],
      "text/plain": [
       "               SENADOR  VEZES_REEMBOLSO\n",
       "0         CARLOS VIANA             2019\n",
       "1  WELLINGTON FAGUNDES             1893\n",
       "2        JAQUES WAGNER             1875\n",
       "3       HUMBERTO COSTA             1704\n",
       "4           PAULO PAIM             1658\n",
       "5     ZEQUINHA MARINHO             1647\n",
       "6   LUIS CARLOS HEINZE             1634\n",
       "7        TELMÁRIO MOTA             1474\n",
       "8       JORGINHO MELLO             1307\n",
       "9    FABIANO CONTARATO             1295"
      ]
     },
     "execution_count": 53,
     "metadata": {},
     "output_type": "execute_result"
    }
   ],
   "source": [
    "vezes_reembolso"
   ]
  },
  {
   "cell_type": "code",
   "execution_count": 64,
   "id": "37cf70f9-eb85-47aa-8ab7-1d2bde96f053",
   "metadata": {},
   "outputs": [
    {
     "data": {
      "image/png": "[encoded data removed]",
      "text/plain": [
       "<Figure size 1080x576 with 1 Axes>"
      ]
     },
     "metadata": {},
     "output_type": "display_data"
    }
   ],
   "source": [
    "sns.set(rc = {'figure.figsize':(15,8)})\n",
    "sns.despine(left=True, bottom=True)\n",
    "\n",
    "custom_params = {\"axes.spines.right\": False, \"axes.spines.top\": False,\n",
    "                 \"axes.spines.left\": False, \"axes.spines.bottom\": False}    \n",
    "sns.set_theme(style = 'whitegrid', rc=custom_params)\n",
    "ax = sns.barplot(x=vezes_reembolso.VEZES_REEMBOLSO, y=vezes_reembolso.SENADOR)\n",
    "\n",
    "for container in ax.containers:\n",
    "    ax.bar_label(container, fontsize=15, padding=-40)\n",
    "\n",
    "ax.set_title('Vezes que o SENADOR pediu REEMBOLSO', fontsize=20, pad=20)\n",
    "ax.set_ylabel('Nome do Senador',labelpad=20, fontsize=15)\n",
    "ax.set_xlabel('Quantidade', labelpad=20, fontsize=15)\n",
    "ax.set(xticklabels=[])\n",
    "ax = ax"
   ]
  },
  {
   "cell_type": "markdown",
   "id": "924e5ee0-18ee-48b8-aed3-fa29742ee984",
   "metadata": {},
   "source": [
    "**Com esse gráfico é possivel perceber que o SENADOR que mais pediu reembolso nos ultimos 4 anos foi Carlos Viana**"
   ]
  }
 ],
 "metadata": {
  "kernelspec": {
   "display_name": "Python 3 (ipykernel)",
   "language": "python",
   "name": "python3"
  },
  "language_info": {
   "codemirror_mode": {
    "name": "ipython",
    "version": 3
   },
   "file_extension": ".py",
   "mimetype": "text/x-python",
   "name": "python",
   "nbconvert_exporter": "python",
   "pygments_lexer": "ipython3",
   "version": "3.10.4"
  }
 },
 "nbformat": 4,
 "nbformat_minor": 5
}
