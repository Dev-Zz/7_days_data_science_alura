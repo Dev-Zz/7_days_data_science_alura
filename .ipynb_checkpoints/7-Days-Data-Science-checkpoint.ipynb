{
 "cells": [
  {
   "cell_type": "markdown",
   "id": "815b5d90-52d0-4a71-a296-23d3359bc5fd",
   "metadata": {},
   "source": [
    "# 7 Days Data Science Alura"
   ]
  },
  {
   "cell_type": "markdown",
   "id": "d9e0f2a8-d9d7-4aa8-88db-7471972ad970",
   "metadata": {},
   "source": [
    "## Primeiro dia"
   ]
  },
  {
   "cell_type": "markdown",
   "id": "574cd991-18c3-478c-8a1e-cc605cf571f7",
   "metadata": {},
   "source": [
    "No primeiro dia, nos foi passado os [Dados Abertos - CEAPS](https://www12.senado.leg.br/transparencia/dados-abertos-transparencia/dados-abertos-ceaps?utm_source=ActiveCampaign&utm_medium=email&utm_content=%237DaysOfCode+-+Ci%C3%AAncia+de+Dados+1%2F7%3A+Data+Cleaning+and+Preparation&utm_campaign=%5BAlura+%237Days+Of+Code%5D%28Java%29+Dia+1%2F7%3A+Consumir+uma+API+de+filmes), precisamos entender os dados, procurar inconsistências, fazer a limpeza."
   ]
  },
  {
   "cell_type": "markdown",
   "id": "4449dd39-e34a-4a3a-be16-cfe340d4cfa5",
   "metadata": {},
   "source": [
    "No total são 15 arquivos 'csv' o primeiro passo é unir todos em um único DataFrame."
   ]
  },
  {
   "cell_type": "code",
   "execution_count": 30,
   "id": "f94daf33-9bd7-425b-a031-4b8278d1c2e9",
   "metadata": {},
   "outputs": [],
   "source": [
    "import os\n",
    "import glob\n",
    "import pandas as pd\n",
    "os.chdir(r\"C:\\Users\\Jose Eduardo\\Documents\\GitHub\\7_days_data_science_alura\\Dados\")"
   ]
  },
  {
   "cell_type": "code",
   "execution_count": 33,
   "id": "3ab761d4-db6d-4b55-a5ad-f6661c1cc625",
   "metadata": {},
   "outputs": [
    {
     "data": {
      "text/plain": [
       "['despesa_ceaps_2008.csv',\n",
       " 'despesa_ceaps_2009.csv',\n",
       " 'despesa_ceaps_2010.csv',\n",
       " 'despesa_ceaps_2011.csv',\n",
       " 'despesa_ceaps_2012.csv',\n",
       " 'despesa_ceaps_2013.csv',\n",
       " 'despesa_ceaps_2014.csv',\n",
       " 'despesa_ceaps_2015.csv',\n",
       " 'despesa_ceaps_2016.csv',\n",
       " 'despesa_ceaps_2017.csv',\n",
       " 'despesa_ceaps_2018.csv',\n",
       " 'despesa_ceaps_2019.csv',\n",
       " 'despesa_ceaps_2020.csv',\n",
       " 'despesa_ceaps_2021.csv',\n",
       " 'despesa_ceaps_2022.csv']"
      ]
     },
     "execution_count": 33,
     "metadata": {},
     "output_type": "execute_result"
    }
   ],
   "source": [
    "extension = 'csv'\n",
    "all_filenames = [i for i in glob.glob('*.{}'.format(extension))]\n",
    "all_filenames"
   ]
  },
  {
   "cell_type": "code",
   "execution_count": 35,
   "id": "33edb692-eb40-4b00-9670-b12670bee39d",
   "metadata": {},
   "outputs": [],
   "source": [
    "combined_csv = pd.concat([pd.read_csv(f, encoding='latin-1', sep=';') for f in all_filenames ])"
   ]
  },
  {
   "cell_type": "code",
   "execution_count": 37,
   "id": "bc867667-cf37-4755-b24c-2d1c8837a8e8",
   "metadata": {},
   "outputs": [],
   "source": [
    "combined_csv.to_csv( \"combined_csv.csv\", index=False, encoding='utf-8')"
   ]
  },
  {
   "cell_type": "code",
   "execution_count": 40,
   "id": "b41f1cff-a780-4191-9e9e-14453a4ed87d",
   "metadata": {},
   "outputs": [
    {
     "data": {
      "text/html": [
       "<div>\n",
       "<style scoped>\n",
       "    .dataframe tbody tr th:only-of-type {\n",
       "        vertical-align: middle;\n",
       "    }\n",
       "\n",
       "    .dataframe tbody tr th {\n",
       "        vertical-align: top;\n",
       "    }\n",
       "\n",
       "    .dataframe thead th {\n",
       "        text-align: right;\n",
       "    }\n",
       "</style>\n",
       "<table border=\"1\" class=\"dataframe\">\n",
       "  <thead>\n",
       "    <tr style=\"text-align: right;\">\n",
       "      <th></th>\n",
       "      <th>ANO</th>\n",
       "      <th>MES</th>\n",
       "      <th>SENADOR</th>\n",
       "      <th>TIPO_DESPESA</th>\n",
       "      <th>CNPJ_CPF</th>\n",
       "      <th>FORNECEDOR</th>\n",
       "      <th>DOCUMENTO</th>\n",
       "      <th>DATA</th>\n",
       "      <th>DETALHAMENTO</th>\n",
       "      <th>VALOR_REEMBOLSADO</th>\n",
       "      <th>COD_DOCUMENTO</th>\n",
       "    </tr>\n",
       "  </thead>\n",
       "  <tbody>\n",
       "    <tr>\n",
       "      <th>0</th>\n",
       "      <td>2008</td>\n",
       "      <td>9</td>\n",
       "      <td>ADA MELLO</td>\n",
       "      <td>Contratação de consultorias, assessorias, pesq...</td>\n",
       "      <td>NaN</td>\n",
       "      <td>NaN</td>\n",
       "      <td>NaN</td>\n",
       "      <td>NaN</td>\n",
       "      <td>NaN</td>\n",
       "      <td>12351,52</td>\n",
       "      <td>2,00809E+12</td>\n",
       "    </tr>\n",
       "    <tr>\n",
       "      <th>1</th>\n",
       "      <td>2008</td>\n",
       "      <td>9</td>\n",
       "      <td>ADA MELLO</td>\n",
       "      <td>Locomoção, hospedagem, alimentação, combustíve...</td>\n",
       "      <td>NaN</td>\n",
       "      <td>NaN</td>\n",
       "      <td>NaN</td>\n",
       "      <td>NaN</td>\n",
       "      <td>NaN</td>\n",
       "      <td>386,6</td>\n",
       "      <td>2,00809E+12</td>\n",
       "    </tr>\n",
       "    <tr>\n",
       "      <th>2</th>\n",
       "      <td>2008</td>\n",
       "      <td>10</td>\n",
       "      <td>ADA MELLO</td>\n",
       "      <td>Contratação de consultorias, assessorias, pesq...</td>\n",
       "      <td>NaN</td>\n",
       "      <td>NaN</td>\n",
       "      <td>NaN</td>\n",
       "      <td>NaN</td>\n",
       "      <td>NaN</td>\n",
       "      <td>12351,52</td>\n",
       "      <td>2,0081E+12</td>\n",
       "    </tr>\n",
       "    <tr>\n",
       "      <th>3</th>\n",
       "      <td>2008</td>\n",
       "      <td>10</td>\n",
       "      <td>ADA MELLO</td>\n",
       "      <td>Locomoção, hospedagem, alimentação, combustíve...</td>\n",
       "      <td>NaN</td>\n",
       "      <td>NaN</td>\n",
       "      <td>NaN</td>\n",
       "      <td>NaN</td>\n",
       "      <td>NaN</td>\n",
       "      <td>2610,68</td>\n",
       "      <td>2,0081E+12</td>\n",
       "    </tr>\n",
       "    <tr>\n",
       "      <th>4</th>\n",
       "      <td>2008</td>\n",
       "      <td>11</td>\n",
       "      <td>ADA MELLO</td>\n",
       "      <td>Contratação de consultorias, assessorias, pesq...</td>\n",
       "      <td>NaN</td>\n",
       "      <td>NaN</td>\n",
       "      <td>NaN</td>\n",
       "      <td>NaN</td>\n",
       "      <td>NaN</td>\n",
       "      <td>12351,52</td>\n",
       "      <td>2,00811E+12</td>\n",
       "    </tr>\n",
       "  </tbody>\n",
       "</table>\n",
       "</div>"
      ],
      "text/plain": [
       "    ANO  MES    SENADOR                                       TIPO_DESPESA  \\\n",
       "0  2008    9  ADA MELLO  Contratação de consultorias, assessorias, pesq...   \n",
       "1  2008    9  ADA MELLO  Locomoção, hospedagem, alimentação, combustíve...   \n",
       "2  2008   10  ADA MELLO  Contratação de consultorias, assessorias, pesq...   \n",
       "3  2008   10  ADA MELLO  Locomoção, hospedagem, alimentação, combustíve...   \n",
       "4  2008   11  ADA MELLO  Contratação de consultorias, assessorias, pesq...   \n",
       "\n",
       "  CNPJ_CPF FORNECEDOR DOCUMENTO DATA DETALHAMENTO VALOR_REEMBOLSADO  \\\n",
       "0      NaN        NaN       NaN  NaN          NaN          12351,52   \n",
       "1      NaN        NaN       NaN  NaN          NaN             386,6   \n",
       "2      NaN        NaN       NaN  NaN          NaN          12351,52   \n",
       "3      NaN        NaN       NaN  NaN          NaN           2610,68   \n",
       "4      NaN        NaN       NaN  NaN          NaN          12351,52   \n",
       "\n",
       "  COD_DOCUMENTO  \n",
       "0   2,00809E+12  \n",
       "1   2,00809E+12  \n",
       "2    2,0081E+12  \n",
       "3    2,0081E+12  \n",
       "4   2,00811E+12  "
      ]
     },
     "execution_count": 40,
     "metadata": {},
     "output_type": "execute_result"
    }
   ],
   "source": [
    "combined_csv.head()"
   ]
  },
  {
   "cell_type": "code",
   "execution_count": 41,
   "id": "97cf9bbd-f1a3-4215-94bf-b59e40bb0dac",
   "metadata": {},
   "outputs": [
    {
     "data": {
      "text/html": [
       "<div>\n",
       "<style scoped>\n",
       "    .dataframe tbody tr th:only-of-type {\n",
       "        vertical-align: middle;\n",
       "    }\n",
       "\n",
       "    .dataframe tbody tr th {\n",
       "        vertical-align: top;\n",
       "    }\n",
       "\n",
       "    .dataframe thead th {\n",
       "        text-align: right;\n",
       "    }\n",
       "</style>\n",
       "<table border=\"1\" class=\"dataframe\">\n",
       "  <thead>\n",
       "    <tr style=\"text-align: right;\">\n",
       "      <th></th>\n",
       "      <th>ANO</th>\n",
       "      <th>MES</th>\n",
       "      <th>SENADOR</th>\n",
       "      <th>TIPO_DESPESA</th>\n",
       "      <th>CNPJ_CPF</th>\n",
       "      <th>FORNECEDOR</th>\n",
       "      <th>DOCUMENTO</th>\n",
       "      <th>DATA</th>\n",
       "      <th>DETALHAMENTO</th>\n",
       "      <th>VALOR_REEMBOLSADO</th>\n",
       "      <th>COD_DOCUMENTO</th>\n",
       "    </tr>\n",
       "  </thead>\n",
       "  <tbody>\n",
       "    <tr>\n",
       "      <th>10272</th>\n",
       "      <td>2022</td>\n",
       "      <td>7</td>\n",
       "      <td>ZEQUINHA MARINHO</td>\n",
       "      <td>Passagens aéreas, aquáticas e terrestres nacio...</td>\n",
       "      <td>22.052.777/0001-32</td>\n",
       "      <td>Exceller Tour</td>\n",
       "      <td>FRMXSO</td>\n",
       "      <td>26/07/2022</td>\n",
       "      <td>Companhia Aérea: GOL, Localizador: FRMXSO. Pas...</td>\n",
       "      <td>1826,25</td>\n",
       "      <td>2184750</td>\n",
       "    </tr>\n",
       "    <tr>\n",
       "      <th>10273</th>\n",
       "      <td>2022</td>\n",
       "      <td>7</td>\n",
       "      <td>ZEQUINHA MARINHO</td>\n",
       "      <td>Passagens aéreas, aquáticas e terrestres nacio...</td>\n",
       "      <td>22.052.777/0001-32</td>\n",
       "      <td>Exceller Tour</td>\n",
       "      <td>YQRYAW</td>\n",
       "      <td>26/07/2022</td>\n",
       "      <td>Companhia Aérea: LATAM, Localizador: YQRYAW. P...</td>\n",
       "      <td>2189,41</td>\n",
       "      <td>2184748</td>\n",
       "    </tr>\n",
       "    <tr>\n",
       "      <th>10274</th>\n",
       "      <td>2022</td>\n",
       "      <td>8</td>\n",
       "      <td>ZEQUINHA MARINHO</td>\n",
       "      <td>Locomoção, hospedagem, alimentação, combustíve...</td>\n",
       "      <td>27.522.923/0001-60</td>\n",
       "      <td>Casarao da Vila Restaurante LTDA - ME</td>\n",
       "      <td>127032</td>\n",
       "      <td>03/08/2022</td>\n",
       "      <td>NaN</td>\n",
       "      <td>26,57</td>\n",
       "      <td>2184892</td>\n",
       "    </tr>\n",
       "    <tr>\n",
       "      <th>10275</th>\n",
       "      <td>2022</td>\n",
       "      <td>8</td>\n",
       "      <td>ZEQUINHA MARINHO</td>\n",
       "      <td>Passagens aéreas, aquáticas e terrestres nacio...</td>\n",
       "      <td>22.052.777/0001-32</td>\n",
       "      <td>Exceller Tour</td>\n",
       "      <td>FLXNAO</td>\n",
       "      <td>02/08/2022</td>\n",
       "      <td>Companhia Aérea: GOL, Localizador: FLXNAO. Pas...</td>\n",
       "      <td>3140,46</td>\n",
       "      <td>2185426</td>\n",
       "    </tr>\n",
       "    <tr>\n",
       "      <th>10276</th>\n",
       "      <td>2022</td>\n",
       "      <td>8</td>\n",
       "      <td>ZEQUINHA MARINHO</td>\n",
       "      <td>Passagens aéreas, aquáticas e terrestres nacio...</td>\n",
       "      <td>22.052.777/0001-32</td>\n",
       "      <td>Exceller Tour</td>\n",
       "      <td>TKR98A</td>\n",
       "      <td>07/08/2022</td>\n",
       "      <td>Companhia Aérea: AZUL, Localizador: TKR98A. Pa...</td>\n",
       "      <td>2850,9</td>\n",
       "      <td>2185429</td>\n",
       "    </tr>\n",
       "  </tbody>\n",
       "</table>\n",
       "</div>"
      ],
      "text/plain": [
       "        ANO  MES           SENADOR  \\\n",
       "10272  2022    7  ZEQUINHA MARINHO   \n",
       "10273  2022    7  ZEQUINHA MARINHO   \n",
       "10274  2022    8  ZEQUINHA MARINHO   \n",
       "10275  2022    8  ZEQUINHA MARINHO   \n",
       "10276  2022    8  ZEQUINHA MARINHO   \n",
       "\n",
       "                                            TIPO_DESPESA            CNPJ_CPF  \\\n",
       "10272  Passagens aéreas, aquáticas e terrestres nacio...  22.052.777/0001-32   \n",
       "10273  Passagens aéreas, aquáticas e terrestres nacio...  22.052.777/0001-32   \n",
       "10274  Locomoção, hospedagem, alimentação, combustíve...  27.522.923/0001-60   \n",
       "10275  Passagens aéreas, aquáticas e terrestres nacio...  22.052.777/0001-32   \n",
       "10276  Passagens aéreas, aquáticas e terrestres nacio...  22.052.777/0001-32   \n",
       "\n",
       "                                  FORNECEDOR DOCUMENTO        DATA  \\\n",
       "10272                          Exceller Tour    FRMXSO  26/07/2022   \n",
       "10273                          Exceller Tour    YQRYAW  26/07/2022   \n",
       "10274  Casarao da Vila Restaurante LTDA - ME    127032  03/08/2022   \n",
       "10275                          Exceller Tour    FLXNAO  02/08/2022   \n",
       "10276                          Exceller Tour    TKR98A  07/08/2022   \n",
       "\n",
       "                                            DETALHAMENTO VALOR_REEMBOLSADO  \\\n",
       "10272  Companhia Aérea: GOL, Localizador: FRMXSO. Pas...           1826,25   \n",
       "10273  Companhia Aérea: LATAM, Localizador: YQRYAW. P...           2189,41   \n",
       "10274                                                NaN             26,57   \n",
       "10275  Companhia Aérea: GOL, Localizador: FLXNAO. Pas...           3140,46   \n",
       "10276  Companhia Aérea: AZUL, Localizador: TKR98A. Pa...            2850,9   \n",
       "\n",
       "      COD_DOCUMENTO  \n",
       "10272       2184750  \n",
       "10273       2184748  \n",
       "10274       2184892  \n",
       "10275       2185426  \n",
       "10276       2185429  "
      ]
     },
     "execution_count": 41,
     "metadata": {},
     "output_type": "execute_result"
    }
   ],
   "source": [
    "combined_csv.tail()"
   ]
  },
  {
   "cell_type": "code",
   "execution_count": 48,
   "id": "75c48515-20a2-43b3-8792-5ba36146dc97",
   "metadata": {},
   "outputs": [
    {
     "data": {
      "text/plain": [
       "(311458, 11)"
      ]
     },
     "execution_count": 48,
     "metadata": {},
     "output_type": "execute_result"
    }
   ],
   "source": [
    "combined_csv.shape"
   ]
  },
  {
   "cell_type": "code",
   "execution_count": 42,
   "id": "9c847022-32a6-4f2f-af72-e8462f867ec7",
   "metadata": {},
   "outputs": [
    {
     "name": "stdout",
     "output_type": "stream",
     "text": [
      "<class 'pandas.core.frame.DataFrame'>\n",
      "Int64Index: 311458 entries, 0 to 10276\n",
      "Data columns (total 11 columns):\n",
      " #   Column             Non-Null Count   Dtype \n",
      "---  ------             --------------   ----- \n",
      " 0   ANO                311458 non-null  int64 \n",
      " 1   MES                311458 non-null  int64 \n",
      " 2   SENADOR            311458 non-null  object\n",
      " 3   TIPO_DESPESA       311458 non-null  object\n",
      " 4   CNPJ_CPF           308314 non-null  object\n",
      " 5   FORNECEDOR         308314 non-null  object\n",
      " 6   DOCUMENTO          287019 non-null  object\n",
      " 7   DATA               308314 non-null  object\n",
      " 8   DETALHAMENTO       177005 non-null  object\n",
      " 9   VALOR_REEMBOLSADO  311458 non-null  object\n",
      " 10  COD_DOCUMENTO      311456 non-null  object\n",
      "dtypes: int64(2), object(9)\n",
      "memory usage: 28.5+ MB\n"
     ]
    }
   ],
   "source": [
    "combined_csv.info()"
   ]
  },
  {
   "cell_type": "code",
   "execution_count": 43,
   "id": "373205ec-9ffb-43e2-afbe-59de0fb06ac0",
   "metadata": {},
   "outputs": [
    {
     "data": {
      "text/plain": [
       "ANO                       0\n",
       "MES                       0\n",
       "SENADOR                   0\n",
       "TIPO_DESPESA              0\n",
       "CNPJ_CPF               3144\n",
       "FORNECEDOR             3144\n",
       "DOCUMENTO             24439\n",
       "DATA                   3144\n",
       "DETALHAMENTO         134453\n",
       "VALOR_REEMBOLSADO         0\n",
       "COD_DOCUMENTO             2\n",
       "dtype: int64"
      ]
     },
     "execution_count": 43,
     "metadata": {},
     "output_type": "execute_result"
    }
   ],
   "source": [
    "combined_csv.isnull().sum()"
   ]
  },
  {
   "cell_type": "code",
   "execution_count": null,
   "id": "2f73028b-8683-46c0-9b21-0cd88e9f321e",
   "metadata": {},
   "outputs": [],
   "source": []
  }
 ],
 "metadata": {
  "kernelspec": {
   "display_name": "Python 3 (ipykernel)",
   "language": "python",
   "name": "python3"
  },
  "language_info": {
   "codemirror_mode": {
    "name": "ipython",
    "version": 3
   },
   "file_extension": ".py",
   "mimetype": "text/x-python",
   "name": "python",
   "nbconvert_exporter": "python",
   "pygments_lexer": "ipython3",
   "version": "3.10.5"
  }
 },
 "nbformat": 4,
 "nbformat_minor": 5
}
